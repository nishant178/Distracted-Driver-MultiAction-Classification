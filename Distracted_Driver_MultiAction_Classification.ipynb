{
  "nbformat": 4,
  "nbformat_minor": 0,
  "metadata": {
    "colab": {
      "name": "Distracted Driver MultiAction Classification.ipynb",
      "provenance": [],
      "collapsed_sections": [],
      "include_colab_link": true
    },
    "kernelspec": {
      "name": "python3",
      "display_name": "Python 3"
    },
    "accelerator": "GPU"
  },
  "cells": [
    {
      "cell_type": "markdown",
      "metadata": {
        "id": "view-in-github",
        "colab_type": "text"
      },
      "source": [
        "<a href=\"https://colab.research.google.com/github/nishant178/Distracted-Driver-MultiAction-Classification/blob/main/Distracted_Driver_MultiAction_Classification.ipynb\" target=\"_parent\"><img src=\"https://colab.research.google.com/assets/colab-badge.svg\" alt=\"Open In Colab\"/></a>"
      ]
    },
    {
      "cell_type": "code",
      "metadata": {
        "id": "w516Zp25vqVX"
      },
      "source": [
        "#!apt install unzip"
      ],
      "execution_count": null,
      "outputs": []
    },
    {
      "cell_type": "code",
      "metadata": {
        "id": "Eo56_bWyxUCQ"
      },
      "source": [
        "!unzip  '/content/drive/My Drive/state-farm-distracted-driver-detection.zip' -d '/content/drive/My Drive/Distracted_driver'"
      ],
      "execution_count": null,
      "outputs": []
    },
    {
      "cell_type": "code",
      "metadata": {
        "id": "V5L9E8GTWQ_m"
      },
      "source": [
        "import numpy as np # linear algebra\n",
        "import pandas as pd # data processing, CSV file I/O (e.g. pd.read_csv)\n",
        "import cv2 #opencv library\n",
        "import glob\n",
        "import matplotlib.pyplot as plt  #plotting library\n",
        "import matplotlib.image as mpimg\n",
        "from sklearn.model_selection import train_test_split\n",
        "import tensorflow\n",
        "import random\n",
        "from keras.callbacks import EarlyStopping\n",
        "from PIL import Image # Image modelling and processing library \n",
        "import h5py\n",
        "import os\n"
      ],
      "execution_count": null,
      "outputs": []
    },
    {
      "cell_type": "code",
      "metadata": {
        "id": "Ef63Y-2dy58o"
      },
      "source": [
        "!unzip '/content/drive/My Drive/Distracted_driver/imgs.zip' -d  '/content/drive/My Drive/Distracted_driver'"
      ],
      "execution_count": null,
      "outputs": []
    },
    {
      "cell_type": "code",
      "metadata": {
        "id": "w7As1vr_dKQK"
      },
      "source": [
        "print(os.listdir(\"https://drive.google.com/file/d/1U5JICMeHcIjKCm4LwDOXtukOy_CHpLkL/view?usp=sharing\"))"
      ],
      "execution_count": null,
      "outputs": []
    },
    {
      "cell_type": "code",
      "metadata": {
        "id": "XBXR7mbRvozH"
      },
      "source": [
        "directory = '/content/drive/My Drive/Distracted_driver/train'\n",
        "test_directory = '/content/drive/My Drive/Distracted_driver/test'\n",
        "classes = ['c0','c1','c2','c3','c4','c5','c6','c7','c8','c9']"
      ],
      "execution_count": null,
      "outputs": []
    },
    {
      "cell_type": "code",
      "metadata": {
        "id": "-31qoN6ZYmUN"
      },
      "source": [
        "training_data = []\n",
        "testing_data = []"
      ],
      "execution_count": null,
      "outputs": []
    },
    {
      "cell_type": "code",
      "metadata": {
        "id": "uvA0DuyrdXrV"
      },
      "source": [
        "def create_training_data():\n",
        "    for category in classes:\n",
        "        path = os.path.join(directory,category)\n",
        "        class_num = classes.index(category)\n",
        "        \n",
        "        for img in os.listdir(path):\n",
        "            img_array = cv2.imread(os.path.join(path,img),cv2.IMREAD_GRAYSCALE)\n",
        "            new_img = cv2.resize(img_array,(240,240))\n",
        "            training_data.append([\n",
        "                new_img,class_num])"
      ],
      "execution_count": null,
      "outputs": []
    },
    {
      "cell_type": "code",
      "metadata": {
        "id": "0I9cZX3mdaJZ"
      },
      "source": [
        "def create_testing_data():        \n",
        "    for img in os.listdir(test_directory):\n",
        "        img_array = cv2.imread(os.path.join(test_directory,img),cv2.IMREAD_GRAYSCALE)\n",
        "        new_img = cv2.resize(img_array,(240,240))\n",
        "        testing_data.append([img,\n",
        "            new_img])\n"
      ],
      "execution_count": null,
      "outputs": []
    },
    {
      "cell_type": "code",
      "metadata": {
        "id": "TPnoIDXSdbIL"
      },
      "source": [
        "for i in classes:\n",
        "    path = os.path.join(directory,i)\n",
        "    for img in os.listdir(path):\n",
        "        img_array = cv2.imread(os.path.join(path,img),cv2.IMREAD_COLOR)\n",
        "        plt.imshow(img_array, cmap='gray')\n",
        "        plt.show()\n",
        "        break\n",
        "    break"
      ],
      "execution_count": null,
      "outputs": []
    },
    {
      "cell_type": "code",
      "metadata": {
        "id": "VUw2nx_odcKe"
      },
      "source": [
        "create_training_data()\n",
        "create_testing_data()"
      ],
      "execution_count": null,
      "outputs": []
    },
    {
      "cell_type": "code",
      "metadata": {
        "id": "q8mTm5PMEqE3"
      },
      "source": [
        "import random"
      ],
      "execution_count": null,
      "outputs": []
    },
    {
      "cell_type": "code",
      "metadata": {
        "id": "FvK633wtd2ff"
      },
      "source": [
        "random.shuffle(training_data)\n",
        "x = []\n",
        "y = []\n",
        "for features, label in training_data:\n",
        "    x.append(features)\n",
        "    y.append(label)"
      ],
      "execution_count": null,
      "outputs": []
    },
    {
      "cell_type": "code",
      "metadata": {
        "id": "PT_w2_ORnKwi"
      },
      "source": [
        "x[0].shape"
      ],
      "execution_count": null,
      "outputs": []
    },
    {
      "cell_type": "code",
      "metadata": {
        "id": "rj3AavCaEFWa"
      },
      "source": [
        "y[0:20]"
      ],
      "execution_count": null,
      "outputs": []
    },
    {
      "cell_type": "code",
      "metadata": {
        "id": "LKX6K2QfEGLy"
      },
      "source": [
        "from keras.utils import np_utils\n",
        "y_cat = np_utils.to_categorical(y,num_classes=10)"
      ],
      "execution_count": null,
      "outputs": []
    },
    {
      "cell_type": "code",
      "metadata": {
        "id": "gJ4DOqzsFo3f"
      },
      "source": [
        "y_cat[0:10]"
      ],
      "execution_count": null,
      "outputs": []
    },
    {
      "cell_type": "code",
      "metadata": {
        "id": "aaNc3rfmFw-a"
      },
      "source": [
        "import numpy as np\n"
      ],
      "execution_count": null,
      "outputs": []
    },
    {
      "cell_type": "code",
      "metadata": {
        "id": "UyXpDs25FrnS"
      },
      "source": [
        "X = np.array(x).reshape(-1,240,240,1)\n",
        "X[0].shape"
      ],
      "execution_count": null,
      "outputs": []
    },
    {
      "cell_type": "code",
      "metadata": {
        "id": "8ergTGOWFuNA"
      },
      "source": [
        "X.shape"
      ],
      "execution_count": null,
      "outputs": []
    },
    {
      "cell_type": "code",
      "metadata": {
        "id": "YMm3IK0AGBRz"
      },
      "source": [
        "from sklearn.model_selection import train_test_split"
      ],
      "execution_count": null,
      "outputs": []
    },
    {
      "cell_type": "code",
      "metadata": {
        "id": "oagkdEc0F26W"
      },
      "source": [
        "X_train,X_test,y_train,y_test = train_test_split(X,y_cat,test_size=0.3,random_state=50)"
      ],
      "execution_count": null,
      "outputs": []
    },
    {
      "cell_type": "code",
      "metadata": {
        "id": "JamIBok2F7m-"
      },
      "source": [
        "print(\"Shape of train images is:\", X_train.shape)\n",
        "print(\"Shape of validation images is:\", X_test.shape)\n",
        "print(\"Shape of labels is:\", y_train.shape)\n",
        "print(\"Shape of labels is:\", y_test.shape)"
      ],
      "execution_count": null,
      "outputs": []
    },
    {
      "cell_type": "code",
      "metadata": {
        "id": "sAqgb30MGHvQ"
      },
      "source": [
        "batch_size = 128\n",
        "from keras import layers\n",
        "from keras import models\n",
        "from keras import optimizers\n",
        "from keras.preprocessing.image import ImageDataGenerator\n",
        "from keras.preprocessing.image import img_to_array, load_img\n",
        "from keras.layers import Conv2D, MaxPooling2D, Flatten, Dense, Dropout,BatchNormalization"
      ],
      "execution_count": null,
      "outputs": []
    },
    {
      "cell_type": "code",
      "metadata": {
        "id": "NWtynrY9GMuW"
      },
      "source": [
        "model = models.Sequential()\n",
        "\n",
        "## CNN 1\n",
        "model.add(Conv2D(32,(3,3),activation='relu',input_shape=(240,240,1)))\n",
        "model.add(BatchNormalization())\n",
        "model.add(Conv2D(32,(3,3),activation='relu',padding='same'))\n",
        "model.add(BatchNormalization(axis = 3))\n",
        "model.add(MaxPooling2D(pool_size=(2,2),padding='same'))\n",
        "model.add(Dropout(0.2))\n",
        "\n",
        "## CNN 2\n",
        "model.add(Conv2D(64,(3,3),activation='relu',padding='same'))\n",
        "model.add(BatchNormalization())\n",
        "model.add(Conv2D(64,(3,3),activation='relu',padding='same'))\n",
        "model.add(BatchNormalization(axis = 3))\n",
        "model.add(MaxPooling2D(pool_size=(2,2),padding='same'))\n",
        "model.add(Dropout(0.3))\n",
        "\n",
        "## CNN 3\n",
        "model.add(Conv2D(128,(3,3),activation='relu',padding='same'))\n",
        "model.add(BatchNormalization())\n",
        "model.add(Conv2D(128,(3,3),activation='relu',padding='same'))\n",
        "model.add(BatchNormalization(axis = 3))\n",
        "model.add(MaxPooling2D(pool_size=(2,2),padding='same'))\n",
        "model.add(Dropout(0.5))\n",
        "\n",
        "## CNN 3\n",
        "#model.add(Conv2D(256,(5,5),activation='relu',padding='same'))\n",
        "#model.add(BatchNormalization(axis = 3))\n",
        "#model.add(MaxPooling2D(pool_size=(2,2),padding='same'))\n",
        "#model.add(Dropout(0.5))\n",
        "\n",
        "## Dense & Output\n",
        "model.add(Flatten())\n",
        "model.add(Dense(units = 512,activation='relu'))\n",
        "model.add(BatchNormalization())\n",
        "model.add(Dropout(0.5))\n",
        "model.add(Dense(units = 128,activation='relu'))\n",
        "model.add(Dropout(0.5))\n",
        "model.add(Dense(10,activation='softmax'))"
      ],
      "execution_count": null,
      "outputs": []
    },
    {
      "cell_type": "code",
      "metadata": {
        "id": "3o4lFL5QGalI"
      },
      "source": [
        "model.summary()"
      ],
      "execution_count": null,
      "outputs": []
    },
    {
      "cell_type": "code",
      "metadata": {
        "id": "MGN8CoDzjLmU"
      },
      "source": [
        "from google.colab import drive\n",
        "drive.mount('/content/drive')"
      ],
      "execution_count": null,
      "outputs": []
    },
    {
      "cell_type": "code",
      "metadata": {
        "id": "SdWl94HWGfWh"
      },
      "source": [
        "model.compile(loss='categorical_crossentropy', optimizer='adam', metrics=['accuracy'])"
      ],
      "execution_count": null,
      "outputs": []
    },
    {
      "cell_type": "code",
      "metadata": {
        "id": "fvPMmdbzGxEw"
      },
      "source": [
        "from keras.callbacks import EarlyStopping"
      ],
      "execution_count": null,
      "outputs": []
    },
    {
      "cell_type": "code",
      "metadata": {
        "id": "lZkA9-HkGnjv"
      },
      "source": [
        "callbacks = [EarlyStopping(monitor='val_accuracy',patience=5)]"
      ],
      "execution_count": null,
      "outputs": []
    },
    {
      "cell_type": "code",
      "metadata": {
        "id": "cJscbOGBGqS_"
      },
      "source": [
        "results = model.fit(X_train,y_train,batch_size=batch_size,epochs=12,verbose=1,validation_data=(X_test,y_test),callbacks=callbacks)"
      ],
      "execution_count": null,
      "outputs": []
    },
    {
      "cell_type": "code",
      "metadata": {
        "id": "woflslMdG2Lm"
      },
      "source": [
        "test_img = np.array(testing_data[1][1]).reshape(-1,240,240,1)"
      ],
      "execution_count": null,
      "outputs": []
    },
    {
      "cell_type": "code",
      "metadata": {
        "id": "C_mFT0sHL1WT"
      },
      "source": [
        "preds = model.predict(test_img)\n",
        "class_idx = np.argmax(preds[0])\n",
        "class_output = model.output[:, class_idx]"
      ],
      "execution_count": null,
      "outputs": []
    },
    {
      "cell_type": "code",
      "metadata": {
        "id": "gEQTSDljL6E0"
      },
      "source": [
        "class_idx"
      ],
      "execution_count": null,
      "outputs": []
    },
    {
      "cell_type": "code",
      "metadata": {
        "id": "9mUXI0SyL99f"
      },
      "source": [
        "model.save_weights('/content/drive/My Drive/DeepLearning_project/driverdistraction_weights.h5')"
      ],
      "execution_count": null,
      "outputs": []
    },
    {
      "cell_type": "code",
      "metadata": {
        "id": "rFg_5fWqMkq-"
      },
      "source": [
        "model.save('/content/drive/My Drive/DeepLearning_project/driverdistraction.h5')"
      ],
      "execution_count": null,
      "outputs": []
    },
    {
      "cell_type": "code",
      "metadata": {
        "id": "BZX-LBM2bb2D"
      },
      "source": [
        "!rm -rf '/content/drive/My Drive/DeepLearning_project'"
      ],
      "execution_count": null,
      "outputs": []
    },
    {
      "cell_type": "code",
      "metadata": {
        "id": "SqDUBRZNb7jz"
      },
      "source": [
        ""
      ],
      "execution_count": null,
      "outputs": []
    }
  ]
}